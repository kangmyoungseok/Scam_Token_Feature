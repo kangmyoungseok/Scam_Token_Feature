{
  "nbformat": 4,
  "nbformat_minor": 0,
  "metadata": {
    "colab": {
      "name": "Creator.ipynb",
      "provenance": [],
      "collapsed_sections": [],
      "authorship_tag": "ABX9TyPal1heY9Wu+iJCwcMz7VSq",
      "include_colab_link": true
    },
    "kernelspec": {
      "name": "python3",
      "display_name": "Python 3"
    },
    "language_info": {
      "name": "python"
    }
  },
  "cells": [
    {
      "cell_type": "markdown",
      "metadata": {
        "id": "view-in-github",
        "colab_type": "text"
      },
      "source": [
        "<a href=\"https://colab.research.google.com/github/kangmyoungseok/Scam_Token_Feature/blob/main/Creator.ipynb\" target=\"_parent\"><img src=\"https://colab.research.google.com/assets/colab-badge.svg\" alt=\"Open In Colab\"/></a>"
      ]
    },
    {
      "cell_type": "code",
      "metadata": {
        "id": "cMMMn_G8aC1K"
      },
      "source": [
        "from pandas.core.frame import DataFrame\n",
        "import pandas as pd\n",
        "import json\n",
        "import requests\n",
        "from bs4 import BeautifulSoup\n",
        "import re \n",
        "import time\n",
        "from multiprocessing import Pool\n",
        "\n",
        "file_name = './Pairs_v1.2.csv'\n",
        "datas = pd.read_csv(file_name).to_dict('records')\n",
        "datas_len = len(datas)\n",
        "\n",
        "def get_creatorAddress(data):\n",
        "    token_id = data['token00.id']\n",
        "    repos_url = 'https://api.ethplorer.io/getAddressInfo/'+token_id+'?apiKey=EK-4L18F-Y2jC1b7-9qC3N'\n",
        "    response = requests.get(repos_url).text\n",
        "    repos = json.loads(response)    #json 형태로 token_id에 해당하는 정보를 불러온다.\n",
        "    \n",
        "    try:\n",
        "        creator_address = repos['contractInfo']['creatorAddress']\n",
        "    except:     #오류가 나면 이더스캔에서 크롤링\n",
        "        url = 'https://etherscan.io/address/'+token_id\n",
        "        try:\n",
        "            response = requests.get(url,headers={'User-Agent':'Mozilla/5.0 (X11; Linux x86_64) AppleWebKit/537.36 (KHTML, like Gecko) Chrome/47.0.2526.106 Safari/537.36'})\n",
        "            page_soup = BeautifulSoup(response.text, \"html.parser\")\n",
        "            Transfers_info_table_1 = str(page_soup.find(\"a\", {\"class\": \"hash-tag text-truncate\"}))\n",
        "            creator_address = re.sub('<.+?>', '', Transfers_info_table_1, 0).strip()\n",
        "            print(token_id +'///'+creator_address)\n",
        "        except Exception as e:  #이더스캔 크롤링까지 에러나면 'Error'로 표시\n",
        "            creator_address = 'Error'\n",
        "            print('token_id' + token_id)\n",
        "            print(e)\n",
        "        \n",
        "    data['token00_creator_address'] = creator_address\n",
        "    return data\n",
        "\n",
        "if __name__=='__main__':\n",
        "    p = Pool(8)\n",
        "    count = 0\n",
        "    result = []\n",
        "    for ret in p.imap(get_creatorAddress,datas):\n",
        "      count = count+1\n",
        "      result.append(ret)\n",
        "      if(count % 200 == 0):\n",
        "        print(\"Process Rate : {}/{} {}%\".format(count,datas_len,int((count/datas_len)*100)))\n",
        "    p.close()\n",
        "    p.join()\n",
        "    df = pd.DataFrame(result)\n",
        "    df.to_csv(\"V1.2+creatoraddress.csv\",index=False)\n",
        " "
      ],
      "execution_count": null,
      "outputs": []
    },
    {
      "cell_type": "code",
      "metadata": {
        "colab": {
          "base_uri": "https://localhost:8080/",
          "height": 633
        },
        "id": "94Y2OPTE8ZMG",
        "outputId": "1adc2faf-b77c-4069-db95-a80c4827b703"
      },
      "source": [
        "#Etherplorer API / Etherscan Crawling으로 Creator Address를 구한다.\n",
        "from pandas.core.frame import DataFrame\n",
        "from requests import Request, Session\n",
        "import pandas as pd\n",
        "import json\n",
        "from bs4 import BeautifulSoup\n",
        "import re # 추가\n",
        "from urllib.request import urlopen\n",
        "import requests\n",
        "import time\n",
        "from multiprocessing import Pool\n",
        "\n",
        "def run_query(query):\n",
        "\n",
        "    # endpoint where you are making the request\n",
        "    request = requests.post('https://graphql.bitquery.io/'\n",
        "                            '',headers={'X-API-KEY': 'BQYgQRzGYhzys0AOlpdpipougQJMH1J8'},\n",
        "                            json={'query': query})\n",
        "    if request.status_code == 200:\n",
        "        return request.json()\n",
        "    else:\n",
        "        print ('Query failed. return code is {}.      {}'.format(request.status_code, query))\n",
        "\n",
        "\n",
        "def get_initial_ETH(data):\n",
        "    pair_id= data['id']\n",
        "    creator_Address = data['token00_creator_address'] \n",
        "    query = '{ ethereum { transfers(options: {asc: \"block.timestamp.time\", limit: 1} amount: {gt: 0} receiver: {is: \"%s\"} sender: {is: \"0x7a250d5630b4cf539739df2c5dacb4c659f2488d\"} txFrom: {is : \"%s\"} ) { block {timestamp {time}} currency { symbol } amount }}}' % (pair_id,creator_Address)\n",
        "    result = run_query(query)\n",
        "    try:\n",
        "        ETH_amount = result['data']['ethereum']['transfers'][0]['amount']\n",
        "    except Exception as e:\n",
        "        ETH_amount = 'Error'\n",
        "        print(e)\n",
        "    data['initial_Liquidity_ETH'] = ETH_amount\n",
        "    return data\n",
        "\n",
        "def split_csv(total_csv):\n",
        "    rows = pd.read_csv(total_csv,chunksize=5000)\n",
        "    file_count = 0\n",
        "    for i, chuck in enumerate(rows):\n",
        "        chuck.to_csv('out{}.csv'.format(i))\n",
        "        file_count = file_count+1 \n",
        "    return file_count\n",
        "\n",
        "def get_creatorAddress(data):\n",
        "    token_id = data['token00.id']\n",
        "    repos_url = 'https://api.ethplorer.io/getAddressInfo/'+token_id+'?apiKey=EK-4L18F-Y2jC1b7-9qC3N'\n",
        "    response = requests.get(repos_url).text\n",
        "    repos = json.loads(response)    #json 형태로 token_id에 해당하는 정보를 불러온다.\n",
        "    \n",
        "    try:\n",
        "        creator_address = repos['contractInfo']['creatorAddress']\n",
        "    except:     #오류가 나면 이더스캔에서 크롤링\n",
        "        url = 'https://etherscan.io/address/'+token_id\n",
        "        try:\n",
        "            response = requests.get(url,headers={'User-Agent':'Mozilla/5.0 (X11; Linux x86_64) AppleWebKit/537.36 (KHTML, like Gecko) Chrome/47.0.2526.106 Safari/537.36'})\n",
        "            page_soup = BeautifulSoup(response.text, \"html.parser\")\n",
        "            Transfers_info_table_1 = str(page_soup.find(\"a\", {\"class\": \"hash-tag text-truncate\"}))\n",
        "            creator_address = re.sub('<.+?>', '', Transfers_info_table_1, 0).strip()\n",
        "        except Exception as e:  #이더스캔 크롤링까지 에러나면 'Error'로 표시\n",
        "            creator_address = 'Error'\n",
        "            print(e)\n",
        "\n",
        "    data['token00_creator_address'] = creator_address\n",
        "    return data\n",
        "\n",
        "if __name__=='__main__':\n",
        "    file_name = './Pairs_v1.2.csv'\n",
        "    file_count = split_csv(file_name)\n",
        "\n",
        "    for i in range(file_count):         #하나의 파일 단위로 Creator Address 불러오고, 해당 초기 유동성풀 이더값 구해온다.\n",
        "        file_name = 'out{}.csv'.format(i)\n",
        "        datas = pd.read_csv(file_name).to_dict('records')\n",
        "        datas_len = len(datas)\n",
        "        try:\n",
        "            p = Pool(8)\n",
        "            count = 0\n",
        "            result = []\n",
        "            for ret in p.imap(get_creatorAddress,datas):\n",
        "                count = count+1\n",
        "                result.append(ret)\n",
        "                if(count % 200 == 0):\n",
        "                    print(\"Process Rate : {}/{} {}%\".format(count,datas_len,int((count/datas_len)*100)))\n",
        "            p.close()\n",
        "            p.join()\n",
        "        except Exception as e:\n",
        "            print(e)\n",
        "        print(result)\n",
        "        print('=======')\n",
        "        time.sleep(5)\n",
        "        p2 = Pool(8)\n",
        "        count = 0\n",
        "        result2 = []\n",
        "        for ret in p2.imap(get_initial_ETH,result):\n",
        "            count = count+1\n",
        "            result2.append(ret)\n",
        "            if(count % 200 == 0):\n",
        "                print(\"Process Rate : {}/{} {}%\".format(count,datas_len,int((count/datas_len)*100)))\n",
        "        p2.close()\n",
        "        p2.join()\n",
        "            \n",
        "        df = pd.DataFrame(result2)\n",
        "        file_name = 'fout{}.csv'.format(i)\n",
        "        df.to_csv(file_name)\n",
        "    \n",
        "    "
      ],
      "execution_count": 13,
      "outputs": [
        {
          "output_type": "stream",
          "name": "stdout",
          "text": [
            "Process Rate : 200/5000 4%\n"
          ]
        },
        {
          "output_type": "stream",
          "name": "stderr",
          "text": [
            "Process ForkPoolWorker-121:\n",
            "Process ForkPoolWorker-123:\n",
            "Process ForkPoolWorker-124:\n",
            "Traceback (most recent call last):\n"
          ]
        },
        {
          "output_type": "error",
          "ename": "KeyboardInterrupt",
          "evalue": "ignored",
          "traceback": [
            "\u001b[0;31m---------------------------------------------------------------------------\u001b[0m",
            "\u001b[0;31mIndexError\u001b[0m                                Traceback (most recent call last)",
            "\u001b[0;32m/usr/lib/python3.7/multiprocessing/pool.py\u001b[0m in \u001b[0;36mnext\u001b[0;34m(self, timeout)\u001b[0m\n\u001b[1;32m    732\u001b[0m             \u001b[0;32mtry\u001b[0m\u001b[0;34m:\u001b[0m\u001b[0;34m\u001b[0m\u001b[0;34m\u001b[0m\u001b[0m\n\u001b[0;32m--> 733\u001b[0;31m                 \u001b[0mitem\u001b[0m \u001b[0;34m=\u001b[0m \u001b[0mself\u001b[0m\u001b[0;34m.\u001b[0m\u001b[0m_items\u001b[0m\u001b[0;34m.\u001b[0m\u001b[0mpopleft\u001b[0m\u001b[0;34m(\u001b[0m\u001b[0;34m)\u001b[0m\u001b[0;34m\u001b[0m\u001b[0;34m\u001b[0m\u001b[0m\n\u001b[0m\u001b[1;32m    734\u001b[0m             \u001b[0;32mexcept\u001b[0m \u001b[0mIndexError\u001b[0m\u001b[0;34m:\u001b[0m\u001b[0;34m\u001b[0m\u001b[0;34m\u001b[0m\u001b[0m\n",
            "\u001b[0;31mIndexError\u001b[0m: pop from an empty deque",
            "\nDuring handling of the above exception, another exception occurred:\n",
            "\u001b[0;31mKeyboardInterrupt\u001b[0m                         Traceback (most recent call last)",
            "\u001b[0;32m<ipython-input-13-6a575c4bef60>\u001b[0m in \u001b[0;36m<module>\u001b[0;34m()\u001b[0m\n\u001b[1;32m     78\u001b[0m             \u001b[0mcount\u001b[0m \u001b[0;34m=\u001b[0m \u001b[0;36m0\u001b[0m\u001b[0;34m\u001b[0m\u001b[0;34m\u001b[0m\u001b[0m\n\u001b[1;32m     79\u001b[0m             \u001b[0mresult\u001b[0m \u001b[0;34m=\u001b[0m \u001b[0;34m[\u001b[0m\u001b[0;34m]\u001b[0m\u001b[0;34m\u001b[0m\u001b[0;34m\u001b[0m\u001b[0m\n\u001b[0;32m---> 80\u001b[0;31m             \u001b[0;32mfor\u001b[0m \u001b[0mret\u001b[0m \u001b[0;32min\u001b[0m \u001b[0mp\u001b[0m\u001b[0;34m.\u001b[0m\u001b[0mimap\u001b[0m\u001b[0;34m(\u001b[0m\u001b[0mget_creatorAddress\u001b[0m\u001b[0;34m,\u001b[0m\u001b[0mdatas\u001b[0m\u001b[0;34m)\u001b[0m\u001b[0;34m:\u001b[0m\u001b[0;34m\u001b[0m\u001b[0;34m\u001b[0m\u001b[0m\n\u001b[0m\u001b[1;32m     81\u001b[0m                 \u001b[0mcount\u001b[0m \u001b[0;34m=\u001b[0m \u001b[0mcount\u001b[0m\u001b[0;34m+\u001b[0m\u001b[0;36m1\u001b[0m\u001b[0;34m\u001b[0m\u001b[0;34m\u001b[0m\u001b[0m\n\u001b[1;32m     82\u001b[0m                 \u001b[0mresult\u001b[0m\u001b[0;34m.\u001b[0m\u001b[0mappend\u001b[0m\u001b[0;34m(\u001b[0m\u001b[0mret\u001b[0m\u001b[0;34m)\u001b[0m\u001b[0;34m\u001b[0m\u001b[0;34m\u001b[0m\u001b[0m\n",
            "\u001b[0;32m/usr/lib/python3.7/multiprocessing/pool.py\u001b[0m in \u001b[0;36mnext\u001b[0;34m(self, timeout)\u001b[0m\n\u001b[1;32m    735\u001b[0m                 \u001b[0;32mif\u001b[0m \u001b[0mself\u001b[0m\u001b[0;34m.\u001b[0m\u001b[0m_index\u001b[0m \u001b[0;34m==\u001b[0m \u001b[0mself\u001b[0m\u001b[0;34m.\u001b[0m\u001b[0m_length\u001b[0m\u001b[0;34m:\u001b[0m\u001b[0;34m\u001b[0m\u001b[0;34m\u001b[0m\u001b[0m\n\u001b[1;32m    736\u001b[0m                     \u001b[0;32mraise\u001b[0m \u001b[0mStopIteration\u001b[0m \u001b[0;32mfrom\u001b[0m \u001b[0;32mNone\u001b[0m\u001b[0;34m\u001b[0m\u001b[0;34m\u001b[0m\u001b[0m\n\u001b[0;32m--> 737\u001b[0;31m                 \u001b[0mself\u001b[0m\u001b[0;34m.\u001b[0m\u001b[0m_cond\u001b[0m\u001b[0;34m.\u001b[0m\u001b[0mwait\u001b[0m\u001b[0;34m(\u001b[0m\u001b[0mtimeout\u001b[0m\u001b[0;34m)\u001b[0m\u001b[0;34m\u001b[0m\u001b[0;34m\u001b[0m\u001b[0m\n\u001b[0m\u001b[1;32m    738\u001b[0m                 \u001b[0;32mtry\u001b[0m\u001b[0;34m:\u001b[0m\u001b[0;34m\u001b[0m\u001b[0;34m\u001b[0m\u001b[0m\n\u001b[1;32m    739\u001b[0m                     \u001b[0mitem\u001b[0m \u001b[0;34m=\u001b[0m \u001b[0mself\u001b[0m\u001b[0;34m.\u001b[0m\u001b[0m_items\u001b[0m\u001b[0;34m.\u001b[0m\u001b[0mpopleft\u001b[0m\u001b[0;34m(\u001b[0m\u001b[0;34m)\u001b[0m\u001b[0;34m\u001b[0m\u001b[0;34m\u001b[0m\u001b[0m\n",
            "\u001b[0;32m/usr/lib/python3.7/threading.py\u001b[0m in \u001b[0;36mwait\u001b[0;34m(self, timeout)\u001b[0m\n\u001b[1;32m    294\u001b[0m         \u001b[0;32mtry\u001b[0m\u001b[0;34m:\u001b[0m    \u001b[0;31m# restore state no matter what (e.g., KeyboardInterrupt)\u001b[0m\u001b[0;34m\u001b[0m\u001b[0;34m\u001b[0m\u001b[0m\n\u001b[1;32m    295\u001b[0m             \u001b[0;32mif\u001b[0m \u001b[0mtimeout\u001b[0m \u001b[0;32mis\u001b[0m \u001b[0;32mNone\u001b[0m\u001b[0;34m:\u001b[0m\u001b[0;34m\u001b[0m\u001b[0;34m\u001b[0m\u001b[0m\n\u001b[0;32m--> 296\u001b[0;31m                 \u001b[0mwaiter\u001b[0m\u001b[0;34m.\u001b[0m\u001b[0macquire\u001b[0m\u001b[0;34m(\u001b[0m\u001b[0;34m)\u001b[0m\u001b[0;34m\u001b[0m\u001b[0;34m\u001b[0m\u001b[0m\n\u001b[0m\u001b[1;32m    297\u001b[0m                 \u001b[0mgotit\u001b[0m \u001b[0;34m=\u001b[0m \u001b[0;32mTrue\u001b[0m\u001b[0;34m\u001b[0m\u001b[0;34m\u001b[0m\u001b[0m\n\u001b[1;32m    298\u001b[0m             \u001b[0;32melse\u001b[0m\u001b[0;34m:\u001b[0m\u001b[0;34m\u001b[0m\u001b[0;34m\u001b[0m\u001b[0m\n",
            "\u001b[0;31mKeyboardInterrupt\u001b[0m: "
          ]
        },
        {
          "output_type": "stream",
          "name": "stderr",
          "text": [
            "Process ForkPoolWorker-122:\n",
            "Traceback (most recent call last):\n",
            "Traceback (most recent call last):\n",
            "  File \"/usr/lib/python3.7/multiprocessing/process.py\", line 297, in _bootstrap\n",
            "    self.run()\n",
            "Traceback (most recent call last):\n"
          ]
        }
      ]
    },
    {
      "cell_type": "code",
      "metadata": {
        "id": "DiNGjQEy9Rrh"
      },
      "source": [
        ""
      ],
      "execution_count": null,
      "outputs": []
    }
  ]
}